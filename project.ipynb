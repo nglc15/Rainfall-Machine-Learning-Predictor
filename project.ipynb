{
 "cells": [
  {
   "cell_type": "code",
   "execution_count": 20,
   "metadata": {},
   "outputs": [],
   "source": [
    "import numpy as np\n",
    "import mltools as ml\n",
    "from sklearn.ensemble import GradientBoostingClassifier\n",
    "from sklearn.metrics import classification_report, confusion_matrix, roc_auc_score"
   ]
  },
  {
   "cell_type": "code",
   "execution_count": 42,
   "metadata": {},
   "outputs": [],
   "source": [
    "X = np.genfromtxt('data/X_train.txt', delimiter=None)\n",
    "Y = np.genfromtxt('data/Y_train.txt', delimiter=None)\n",
    "xTest = np.genfromtxt('data/X_test.txt', delimiter=None)\n",
    "X,Y = ml.shuffleData(X,Y)\n",
    "[Xtr, Xva, Ytr, Yva] = ml.splitData(X,Y,0.8)"
   ]
  },
  {
   "cell_type": "code",
   "execution_count": 75,
   "metadata": {},
   "outputs": [],
   "source": [
    "learningratelist = [50, 100, 250, 500]\n",
    "finallist = []"
   ]
  },
  {
   "cell_type": "code",
   "execution_count": 76,
   "metadata": {},
   "outputs": [],
   "source": [
    "for i in learningratelist:\n",
    "    GBC = GradientBoostingClassifier(n_estimators=100, learning_rate= 0.5,\n",
    "     max_depth=i, max_leaf_nodes=15, random_state=42)\n",
    "    GBC.fit(Xtr,Ytr)\n",
    "    random_roc = roc_auc_score(Yva, GBC.predict_proba(Xva)[:,1])\n",
    "    finallist.append(random_roc)\n",
    "    \n",
    "    \n",
    "    "
   ]
  },
  {
   "cell_type": "code",
   "execution_count": 77,
   "metadata": {},
   "outputs": [
    {
     "name": "stdout",
     "output_type": "stream",
     "text": [
      "[0.7423746127078499, 0.7423746127078499, 0.7423746127078499, 0.7423746127078499]\n"
     ]
    }
   ],
   "source": [
    "print(finallist)"
   ]
  },
  {
   "cell_type": "code",
   "execution_count": 74,
   "metadata": {},
   "outputs": [
    {
     "name": "stdout",
     "output_type": "stream",
     "text": [
      "[0.7701623628298274, 0.7704772311579051, 0.7705459159290854, 0.7703322170252079]\n"
     ]
    }
   ],
   "source": [
    "print(finallist) #n estimator 1100, 25, 50, 75"
   ]
  },
  {
   "cell_type": "code",
   "execution_count": 62,
   "metadata": {},
   "outputs": [
    {
     "name": "stdout",
     "output_type": "stream",
     "text": [
      "[0.7430070104028916, 0.7396747861964859, 0.7431237603623878, 0.7426499886105316, 0.7412528127791489, 0.7409604800374302, 0.7408627860576569, 0.7431870467486316, 0.7408295230715733]\n"
     ]
    }
   ],
   "source": [
    "print(finallist) #0.68 best for learning rate"
   ]
  },
  {
   "cell_type": "code",
   "execution_count": 81,
   "metadata": {},
   "outputs": [],
   "source": [
    "GBC = GradientBoostingClassifier(n_estimators=1500, learning_rate=0.68,\n",
    "     max_depth=50, max_leaf_nodes=15, random_state=42)\n"
   ]
  },
  {
   "cell_type": "code",
   "execution_count": 85,
   "metadata": {},
   "outputs": [
    {
     "data": {
      "text/plain": [
       "GradientBoostingClassifier(ccp_alpha=0.0, criterion='friedman_mse', init=None,\n",
       "                           learning_rate=0.68, loss='deviance', max_depth=50,\n",
       "                           max_features=None, max_leaf_nodes=15,\n",
       "                           min_impurity_decrease=0.0, min_impurity_split=None,\n",
       "                           min_samples_leaf=1, min_samples_split=2,\n",
       "                           min_weight_fraction_leaf=0.0, n_estimators=1500,\n",
       "                           n_iter_no_change=None, presort='deprecated',\n",
       "                           random_state=42, subsample=1.0, tol=0.0001,\n",
       "                           validation_fraction=0.1, verbose=0,\n",
       "                           warm_start=False)"
      ]
     },
     "execution_count": 85,
     "metadata": {},
     "output_type": "execute_result"
    }
   ],
   "source": [
    "GBC.fit(Xtr,Ytr)"
   ]
  },
  {
   "cell_type": "code",
   "execution_count": 83,
   "metadata": {},
   "outputs": [
    {
     "name": "stdout",
     "output_type": "stream",
     "text": [
      "validation roc: 0.7702711046994102\n"
     ]
    }
   ],
   "source": [
    "random_roc = roc_auc_score(Yva, GBC.predict_proba(Xva)[:,1])\n",
    "print(\"validation roc:\", random_roc)"
   ]
  },
  {
   "cell_type": "code",
   "execution_count": 80,
   "metadata": {},
   "outputs": [
    {
     "name": "stdout",
     "output_type": "stream",
     "text": [
      "validation roc: 0.7705459159290854\n"
     ]
    }
   ],
   "source": [
    "random_roc = roc_auc_score(Yva, GBC.predict_proba(Xva)[:,1])\n",
    "print(\"validation roc:\", random_roc) #n_estimators = 1150, learning rate = 0.68"
   ]
  },
  {
   "cell_type": "code",
   "execution_count": 52,
   "metadata": {},
   "outputs": [
    {
     "name": "stdout",
     "output_type": "stream",
     "text": [
      "validation roc: 0.7775919001572439\n"
     ]
    }
   ],
   "source": [
    "random_roc = roc_auc_score(Yva, GBC.predict_proba(Xva)[:,1])\n",
    "print(\"validation roc:\", random_roc) #n_estimators = 1500"
   ]
  },
  {
   "cell_type": "code",
   "execution_count": 49,
   "metadata": {},
   "outputs": [
    {
     "name": "stdout",
     "output_type": "stream",
     "text": [
      "validation roc: 0.7759321846754106\n"
     ]
    }
   ],
   "source": [
    "random_roc = roc_auc_score(Yva, GBC.predict_proba(Xva)[:,1])\n",
    "print(\"validation roc:\", random_roc) #n_estimators = 1000"
   ]
  },
  {
   "cell_type": "code",
   "execution_count": 46,
   "metadata": {},
   "outputs": [
    {
     "name": "stdout",
     "output_type": "stream",
     "text": [
      "validation roc: 0.7423746127078499\n"
     ]
    }
   ],
   "source": [
    "random_roc = roc_auc_score(Yva, GBC.predict_proba(Xva)[:,1])\n",
    "print(\"validation roc:\", random_roc) #n_estimators = 100"
   ]
  },
  {
   "cell_type": "code",
   "execution_count": 87,
   "metadata": {},
   "outputs": [],
   "source": [
    "learner = GradientBoostingClassifier(n_estimators=1500, learning_rate=0.68,\n",
    "     max_depth=50, max_leaf_nodes=15, random_state=42)\n",
    "learner.fit(Xtr,Ytr)\n",
    "Xte = np.genfromtxt('data/X_test.txt', delimiter=None)\n",
    "Yte = np.vstack((np.arange(Xte.shape[0]), learner.predict_proba(Xte)[:,1])).T\n",
    "# Output a file with two columns, a row ID and a confidence in class 1:\n",
    "np.savetxt('Y_submit.txt',Yte,'%d,%.2f',header='ID,Prob1',comments='',delimiter=',')"
   ]
  },
  {
   "cell_type": "code",
   "execution_count": null,
   "metadata": {},
   "outputs": [],
   "source": []
  }
 ],
 "metadata": {
  "kernelspec": {
   "display_name": "Python 3",
   "language": "python",
   "name": "python3"
  },
  "language_info": {
   "codemirror_mode": {
    "name": "ipython",
    "version": 3
   },
   "file_extension": ".py",
   "mimetype": "text/x-python",
   "name": "python",
   "nbconvert_exporter": "python",
   "pygments_lexer": "ipython3",
   "version": "3.7.6"
  }
 },
 "nbformat": 4,
 "nbformat_minor": 4
}
